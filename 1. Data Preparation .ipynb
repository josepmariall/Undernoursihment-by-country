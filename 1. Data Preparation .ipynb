{
 "cells": [
  {
   "cell_type": "markdown",
   "metadata": {},
   "source": [
    "## I. Data Preparation (train)\n",
    "\n",
    "The goal of this dataset is to clean the data set we'll use for data visualizations and training the model. Note that further data wrangling is required for training the model, which will be done in jupyter notebook no.2 from this project.\n",
    "    \n",
    "Here's what to expect on this notebook:\n",
    "    - Importing libraries and data\n",
    "    - Fixing data types\n",
    "    - Find number of nulls\n",
    "    - Feature engineering: Creating new columns, aggreagating categories and hot encoding\n",
    "    \n",
    "Finally we save modified data for future data visualizations\n"
   ]
  },
  {
   "cell_type": "markdown",
   "metadata": {},
   "source": [
    "### 1. Importing libraries and data"
   ]
  },
  {
   "cell_type": "code",
   "execution_count": 1,
   "metadata": {},
   "outputs": [],
   "source": [
    "# import libraries\n",
    "import pandas as pd\n",
    "from sklearn import preprocessing\n",
    "import sklearn.model_selection as ms\n",
    "from sklearn import linear_model\n",
    "import sklearn.metrics as sklm\n",
    "import numpy as np\n",
    "import numpy.random as nr\n",
    "import matplotlib.pyplot as plt\n",
    "import seaborn as sns\n",
    "import scipy.stats as ss\n",
    "import math\n",
    "\n",
    "%matplotlib inline\n",
    "%matplotlib inline"
   ]
  },
  {
   "cell_type": "code",
   "execution_count": 2,
   "metadata": {},
   "outputs": [
    {
     "data": {
      "text/plain": [
       "(1401, 46)"
      ]
     },
     "execution_count": 2,
     "metadata": {},
     "output_type": "execute_result"
    }
   ],
   "source": [
    "#import first data set (CPtrain values)\n",
    "df=pd.read_csv('CPtrain_values.csv',sep=',')\n",
    "df.shape"
   ]
  },
  {
   "cell_type": "code",
   "execution_count": 3,
   "metadata": {},
   "outputs": [
    {
     "data": {
      "text/html": [
       "<div>\n",
       "<style scoped>\n",
       "    .dataframe tbody tr th:only-of-type {\n",
       "        vertical-align: middle;\n",
       "    }\n",
       "\n",
       "    .dataframe tbody tr th {\n",
       "        vertical-align: top;\n",
       "    }\n",
       "\n",
       "    .dataframe thead th {\n",
       "        text-align: right;\n",
       "    }\n",
       "</style>\n",
       "<table border=\"1\" class=\"dataframe\">\n",
       "  <thead>\n",
       "    <tr style=\"text-align: right;\">\n",
       "      <th></th>\n",
       "      <th>row_id</th>\n",
       "      <th>country_code</th>\n",
       "      <th>year</th>\n",
       "      <th>agricultural_land_area</th>\n",
       "      <th>percentage_of_arable_land_equipped_for_irrigation</th>\n",
       "      <th>cereal_yield</th>\n",
       "      <th>droughts_floods_extreme_temps</th>\n",
       "      <th>forest_area</th>\n",
       "      <th>total_land_area</th>\n",
       "      <th>fertility_rate</th>\n",
       "      <th>...</th>\n",
       "      <th>open_defecation</th>\n",
       "      <th>hiv_incidence</th>\n",
       "      <th>rail_lines_density</th>\n",
       "      <th>access_to_electricity</th>\n",
       "      <th>co2_emissions</th>\n",
       "      <th>unemployment_rate</th>\n",
       "      <th>total_labor_force</th>\n",
       "      <th>military_expenditure_share_gdp</th>\n",
       "      <th>proportion_of_seats_held_by_women_in_gov</th>\n",
       "      <th>political_stability</th>\n",
       "    </tr>\n",
       "  </thead>\n",
       "  <tbody>\n",
       "    <tr>\n",
       "      <th>0</th>\n",
       "      <td>0</td>\n",
       "      <td>889f053</td>\n",
       "      <td>2002</td>\n",
       "      <td>235077.658128</td>\n",
       "      <td>38.558520</td>\n",
       "      <td>935.754365</td>\n",
       "      <td>NaN</td>\n",
       "      <td>5397.737544</td>\n",
       "      <td>537408.312513</td>\n",
       "      <td>5.928981</td>\n",
       "      <td>...</td>\n",
       "      <td>28.933529</td>\n",
       "      <td>0.009975</td>\n",
       "      <td>NaN</td>\n",
       "      <td>52.433239</td>\n",
       "      <td>15485.148165</td>\n",
       "      <td>14.788020</td>\n",
       "      <td>4.350521e+06</td>\n",
       "      <td>7.021072</td>\n",
       "      <td>0.698153</td>\n",
       "      <td>-1.393801</td>\n",
       "    </tr>\n",
       "    <tr>\n",
       "      <th>1</th>\n",
       "      <td>1</td>\n",
       "      <td>9e614ab</td>\n",
       "      <td>2012</td>\n",
       "      <td>23000.640738</td>\n",
       "      <td>21.282631</td>\n",
       "      <td>4031.452161</td>\n",
       "      <td>NaN</td>\n",
       "      <td>178336.529912</td>\n",
       "      <td>232013.631676</td>\n",
       "      <td>3.000629</td>\n",
       "      <td>...</td>\n",
       "      <td>29.665789</td>\n",
       "      <td>0.029840</td>\n",
       "      <td>NaN</td>\n",
       "      <td>77.715574</td>\n",
       "      <td>1696.458184</td>\n",
       "      <td>0.687018</td>\n",
       "      <td>3.262614e+06</td>\n",
       "      <td>0.198831</td>\n",
       "      <td>25.101826</td>\n",
       "      <td>0.030556</td>\n",
       "    </tr>\n",
       "  </tbody>\n",
       "</table>\n",
       "<p>2 rows × 46 columns</p>\n",
       "</div>"
      ],
      "text/plain": [
       "   row_id country_code  year  agricultural_land_area  \\\n",
       "0       0      889f053  2002           235077.658128   \n",
       "1       1      9e614ab  2012            23000.640738   \n",
       "\n",
       "   percentage_of_arable_land_equipped_for_irrigation  cereal_yield  \\\n",
       "0                                          38.558520    935.754365   \n",
       "1                                          21.282631   4031.452161   \n",
       "\n",
       "   droughts_floods_extreme_temps    forest_area  total_land_area  \\\n",
       "0                            NaN    5397.737544    537408.312513   \n",
       "1                            NaN  178336.529912    232013.631676   \n",
       "\n",
       "   fertility_rate  ...  open_defecation  hiv_incidence  rail_lines_density  \\\n",
       "0        5.928981  ...        28.933529       0.009975                 NaN   \n",
       "1        3.000629  ...        29.665789       0.029840                 NaN   \n",
       "\n",
       "   access_to_electricity  co2_emissions  unemployment_rate  total_labor_force  \\\n",
       "0              52.433239   15485.148165          14.788020       4.350521e+06   \n",
       "1              77.715574    1696.458184           0.687018       3.262614e+06   \n",
       "\n",
       "   military_expenditure_share_gdp  proportion_of_seats_held_by_women_in_gov  \\\n",
       "0                        7.021072                                  0.698153   \n",
       "1                        0.198831                                 25.101826   \n",
       "\n",
       "   political_stability  \n",
       "0            -1.393801  \n",
       "1             0.030556  \n",
       "\n",
       "[2 rows x 46 columns]"
      ]
     },
     "execution_count": 3,
     "metadata": {},
     "output_type": "execute_result"
    }
   ],
   "source": [
    "#View data\n",
    "df.head(2)"
   ]
  },
  {
   "cell_type": "code",
   "execution_count": 4,
   "metadata": {},
   "outputs": [
    {
     "name": "stdout",
     "output_type": "stream",
     "text": [
      "(1401, 46)\n",
      "(1401,)\n"
     ]
    }
   ],
   "source": [
    "# Remove duplicates if available (row)\n",
    "print(df.shape)\n",
    "print (df.row_id.unique().shape)"
   ]
  },
  {
   "cell_type": "markdown",
   "metadata": {},
   "source": [
    "No duplicates to be removed (based on id column)"
   ]
  },
  {
   "cell_type": "markdown",
   "metadata": {},
   "source": [
    "### 2.  Fixing data types and see number of nulls"
   ]
  },
  {
   "cell_type": "code",
   "execution_count": 5,
   "metadata": {},
   "outputs": [
    {
     "data": {
      "text/plain": [
       "row_id                                                 int64\n",
       "country_code                                          object\n",
       "year                                                   int64\n",
       "agricultural_land_area                               float64\n",
       "percentage_of_arable_land_equipped_for_irrigation    float64\n",
       "cereal_yield                                         float64\n",
       "droughts_floods_extreme_temps                        float64\n",
       "forest_area                                          float64\n",
       "total_land_area                                      float64\n",
       "fertility_rate                                       float64\n",
       "life_expectancy                                      float64\n",
       "rural_population                                     float64\n",
       "total_population                                     float64\n",
       "urban_population                                     float64\n",
       "population_growth                                    float64\n",
       "avg_value_of_food_production                         float64\n",
       "cereal_import_dependency_ratio                       float64\n",
       "food_imports_as_share_of_merch_exports               float64\n",
       "gross_domestic_product_per_capita_ppp                float64\n",
       "imports_of_goods_and_services                        float64\n",
       "inequality_index                                     float64\n",
       "net_oda_received_percent_gni                         float64\n",
       "net_oda_received_per_capita                          float64\n",
       "tax_revenue_share_gdp                                float64\n",
       "trade_in_services                                    float64\n",
       "per_capita_food_production_variability               float64\n",
       "per_capita_food_supply_variability                   float64\n",
       "adult_literacy_rate                                  float64\n",
       "school_enrollment_rate_female                        float64\n",
       "school_enrollment_rate_total                         float64\n",
       "avg_supply_of_protein_of_animal_origin               float64\n",
       "caloric_energy_from_cereals_roots_tubers             float64\n",
       "access_to_improved_sanitation                        float64\n",
       "access_to_improved_water_sources                     float64\n",
       "anemia_prevalence                                    float64\n",
       "obesity_prevalence                                   float64\n",
       "open_defecation                                      float64\n",
       "hiv_incidence                                        float64\n",
       "rail_lines_density                                   float64\n",
       "access_to_electricity                                float64\n",
       "co2_emissions                                        float64\n",
       "unemployment_rate                                    float64\n",
       "total_labor_force                                    float64\n",
       "military_expenditure_share_gdp                       float64\n",
       "proportion_of_seats_held_by_women_in_gov             float64\n",
       "political_stability                                  float64\n",
       "dtype: object"
      ]
     },
     "execution_count": 5,
     "metadata": {},
     "output_type": "execute_result"
    }
   ],
   "source": [
    "#view data types and see if there's anything wrong\n",
    "df.dtypes"
   ]
  },
  {
   "cell_type": "markdown",
   "metadata": {},
   "source": [
    "All columns seem to be the right data type"
   ]
  },
  {
   "cell_type": "code",
   "execution_count": 6,
   "metadata": {},
   "outputs": [
    {
     "data": {
      "text/plain": [
       "row_id                                                  0\n",
       "country_code                                            0\n",
       "year                                                    0\n",
       "agricultural_land_area                                 16\n",
       "percentage_of_arable_land_equipped_for_irrigation     248\n",
       "cereal_yield                                           64\n",
       "droughts_floods_extreme_temps                        1326\n",
       "forest_area                                            16\n",
       "total_land_area                                         0\n",
       "fertility_rate                                         14\n",
       "life_expectancy                                        15\n",
       "rural_population                                        0\n",
       "total_population                                        0\n",
       "urban_population                                        0\n",
       "population_growth                                       1\n",
       "avg_value_of_food_production                          167\n",
       "cereal_import_dependency_ratio                        317\n",
       "food_imports_as_share_of_merch_exports                253\n",
       "gross_domestic_product_per_capita_ppp                  39\n",
       "imports_of_goods_and_services                          77\n",
       "inequality_index                                      972\n",
       "net_oda_received_percent_gni                          164\n",
       "net_oda_received_per_capita                           162\n",
       "tax_revenue_share_gdp                                 545\n",
       "trade_in_services                                     165\n",
       "per_capita_food_production_variability                 87\n",
       "per_capita_food_supply_variability                    172\n",
       "adult_literacy_rate                                  1116\n",
       "school_enrollment_rate_female                         606\n",
       "school_enrollment_rate_total                          504\n",
       "avg_supply_of_protein_of_animal_origin                252\n",
       "caloric_energy_from_cereals_roots_tubers              252\n",
       "access_to_improved_sanitation                          74\n",
       "access_to_improved_water_sources                       62\n",
       "anemia_prevalence                                      80\n",
       "obesity_prevalence                                    157\n",
       "open_defecation                                        20\n",
       "hiv_incidence                                         371\n",
       "rail_lines_density                                    944\n",
       "access_to_electricity                                   4\n",
       "co2_emissions                                          84\n",
       "unemployment_rate                                      64\n",
       "total_labor_force                                      64\n",
       "military_expenditure_share_gdp                        273\n",
       "proportion_of_seats_held_by_women_in_gov              143\n",
       "political_stability                                   135\n",
       "dtype: int64"
      ]
     },
     "execution_count": 6,
     "metadata": {},
     "output_type": "execute_result"
    }
   ],
   "source": [
    "#see how many nulls we have on data\n",
    "df.isna().sum()"
   ]
  },
  {
   "cell_type": "markdown",
   "metadata": {},
   "source": [
    "Considering I have 1401 rows, having columns with more than 600 nulls is a concern. I will take a different approach to see how many the columns with fewer rows filled in."
   ]
  },
  {
   "cell_type": "code",
   "execution_count": 7,
   "metadata": {},
   "outputs": [
    {
     "name": "stdout",
     "output_type": "stream",
     "text": [
      "<class 'pandas.core.frame.DataFrame'>\n",
      "RangeIndex: 1401 entries, 0 to 1400\n",
      "Data columns (total 46 columns):\n",
      "row_id                                               1401 non-null int64\n",
      "country_code                                         1401 non-null object\n",
      "year                                                 1401 non-null int64\n",
      "agricultural_land_area                               1385 non-null float64\n",
      "percentage_of_arable_land_equipped_for_irrigation    1153 non-null float64\n",
      "cereal_yield                                         1337 non-null float64\n",
      "droughts_floods_extreme_temps                        75 non-null float64\n",
      "forest_area                                          1385 non-null float64\n",
      "total_land_area                                      1401 non-null float64\n",
      "fertility_rate                                       1387 non-null float64\n",
      "life_expectancy                                      1386 non-null float64\n",
      "rural_population                                     1401 non-null float64\n",
      "total_population                                     1401 non-null float64\n",
      "urban_population                                     1401 non-null float64\n",
      "population_growth                                    1400 non-null float64\n",
      "avg_value_of_food_production                         1234 non-null float64\n",
      "cereal_import_dependency_ratio                       1084 non-null float64\n",
      "food_imports_as_share_of_merch_exports               1148 non-null float64\n",
      "gross_domestic_product_per_capita_ppp                1362 non-null float64\n",
      "imports_of_goods_and_services                        1324 non-null float64\n",
      "inequality_index                                     429 non-null float64\n",
      "net_oda_received_percent_gni                         1237 non-null float64\n",
      "net_oda_received_per_capita                          1239 non-null float64\n",
      "tax_revenue_share_gdp                                856 non-null float64\n",
      "trade_in_services                                    1236 non-null float64\n",
      "per_capita_food_production_variability               1314 non-null float64\n",
      "per_capita_food_supply_variability                   1229 non-null float64\n",
      "adult_literacy_rate                                  285 non-null float64\n",
      "school_enrollment_rate_female                        795 non-null float64\n",
      "school_enrollment_rate_total                         897 non-null float64\n",
      "avg_supply_of_protein_of_animal_origin               1149 non-null float64\n",
      "caloric_energy_from_cereals_roots_tubers             1149 non-null float64\n",
      "access_to_improved_sanitation                        1327 non-null float64\n",
      "access_to_improved_water_sources                     1339 non-null float64\n",
      "anemia_prevalence                                    1321 non-null float64\n",
      "obesity_prevalence                                   1244 non-null float64\n",
      "open_defecation                                      1381 non-null float64\n",
      "hiv_incidence                                        1030 non-null float64\n",
      "rail_lines_density                                   457 non-null float64\n",
      "access_to_electricity                                1397 non-null float64\n",
      "co2_emissions                                        1317 non-null float64\n",
      "unemployment_rate                                    1337 non-null float64\n",
      "total_labor_force                                    1337 non-null float64\n",
      "military_expenditure_share_gdp                       1128 non-null float64\n",
      "proportion_of_seats_held_by_women_in_gov             1258 non-null float64\n",
      "political_stability                                  1266 non-null float64\n",
      "dtypes: float64(43), int64(2), object(1)\n",
      "memory usage: 503.6+ KB\n"
     ]
    }
   ],
   "source": [
    "# See number of rows with non nulls\n",
    "df.info()"
   ]
  },
  {
   "cell_type": "markdown",
   "metadata": {},
   "source": [
    "The following rows have very few values:\n",
    "- Adult literacy rate (2085)\n",
    "- droughts_floods_extreme_temps (75)\n",
    "- inequality_index (429)\n",
    "- rail_lines_density (457)\n",
    "- school_enrollment_rate_female (795)                        \n",
    "- school_enrollment_rate_total (897)                       \n",
    "- tax_revenue_share_gdp (856)\n",
    "\n",
    "I need to do something about them. If I do imputation (replacing nulls with a value, such as the mode, median, mean, or any other one) would bias the prediction results. On the other hand, if I remove the rows with missing values, I would end up with a dataset with only 75 values.\n",
    "\n",
    "Probably, the best thing to do is to remove those columns. Before that, I shall make sure that the correlation between these columns (features) I want to remvoe and the label (prevalence of undernourishment) is not relevant.\n"
   ]
  },
  {
   "cell_type": "code",
   "execution_count": 8,
   "metadata": {},
   "outputs": [
    {
     "name": "stdout",
     "output_type": "stream",
     "text": [
      "Top Absolute Correlations\n",
      "total_population               total_labor_force                0.997911\n",
      "rural_population               total_population                 0.993388\n",
      "                               total_labor_force                0.989707\n",
      "school_enrollment_rate_female  school_enrollment_rate_total     0.979683\n",
      "urban_population               total_labor_force                0.974371\n",
      "total_population               urban_population                 0.972803\n",
      "agricultural_land_area         total_land_area                  0.954624\n",
      "rural_population               urban_population                 0.940436\n",
      "forest_area                    total_land_area                  0.928500\n",
      "access_to_improved_sanitation  access_to_electricity            0.863503\n",
      "urban_population               co2_emissions                    0.850898\n",
      "adult_literacy_rate            school_enrollment_rate_female    0.829266\n",
      "life_expectancy                access_to_electricity            0.827314\n",
      "fertility_rate                 access_to_electricity            0.814667\n",
      "life_expectancy                access_to_improved_sanitation    0.814023\n",
      "agricultural_land_area         forest_area                      0.807158\n",
      "co2_emissions                  total_labor_force                0.807034\n",
      "total_population               co2_emissions                    0.801687\n",
      "fertility_rate                 life_expectancy                  0.799048\n",
      "access_to_improved_sanitation  open_defecation                  0.791013\n",
      "dtype: float64\n"
     ]
    }
   ],
   "source": [
    "# Find the most important correlations\n",
    "\n",
    "import pandas as pd\n",
    "d = df.loc[:, df.columns != 'country_code']\n",
    "\n",
    "def get_redundant_pairs(df):\n",
    "    '''Get diagonal and lower triangular pairs of correlation matrix'''\n",
    "    pairs_to_drop = set()\n",
    "    cols = df.columns\n",
    "    for i in range(0, df.shape[1]):\n",
    "        for j in range(0, i+1):\n",
    "            pairs_to_drop.add((cols[i], cols[j]))\n",
    "    return pairs_to_drop\n",
    "\n",
    "def get_top_abs_correlations(df, n=5):\n",
    "    au_corr = df.corr().abs().unstack()\n",
    "    labels_to_drop = get_redundant_pairs(df)\n",
    "    au_corr = au_corr.drop(labels=labels_to_drop).sort_values(ascending=False)\n",
    "    return au_corr[0:n]\n",
    "\n",
    "print(\"Top Absolute Correlations\")\n",
    "print(get_top_abs_correlations(d, 20))"
   ]
  },
  {
   "cell_type": "markdown",
   "metadata": {},
   "source": [
    "As expected, amongst the top 20 most important correlations with the label I cannot find any of the feautres with very few non-null values. \n",
    "\n",
    "Therefore, I proceed to remove them."
   ]
  },
  {
   "cell_type": "code",
   "execution_count": 9,
   "metadata": {},
   "outputs": [],
   "source": [
    "#Drop Columns with too many missing values (nan)\n",
    "df= df.drop(['adult_literacy_rate','droughts_floods_extreme_temps','hiv_incidence','inequality_index','rail_lines_density',\n",
    "             'school_enrollment_rate_female','school_enrollment_rate_total','tax_revenue_share_gdp'], axis = 1)"
   ]
  },
  {
   "cell_type": "code",
   "execution_count": 10,
   "metadata": {},
   "outputs": [
    {
     "data": {
      "text/plain": [
       "(1401, 38)"
      ]
     },
     "execution_count": 10,
     "metadata": {},
     "output_type": "execute_result"
    }
   ],
   "source": [
    "df.shape"
   ]
  },
  {
   "cell_type": "markdown",
   "metadata": {},
   "source": [
    "Now the number of columns has decreased from 46 to 38"
   ]
  },
  {
   "cell_type": "markdown",
   "metadata": {},
   "source": [
    "### 3. Feature Engineering\n",
    "\n",
    "I will create one 3 new columns:\n"
   ]
  },
  {
   "cell_type": "markdown",
   "metadata": {},
   "source": [
    "#### 3.1 Create a categorical column (yearnew)\n",
    "\n",
    "The reason I create this column is to show that PoU has increased in the 2010 compared to 2000."
   ]
  },
  {
   "cell_type": "code",
   "execution_count": 11,
   "metadata": {},
   "outputs": [
    {
     "data": {
      "text/plain": [
       "2000    890\n",
       "2010    511\n",
       "Name: year2, dtype: int64"
      ]
     },
     "execution_count": 11,
     "metadata": {},
     "output_type": "execute_result"
    }
   ],
   "source": [
    "#Aggregate Categories for year\n",
    "\n",
    "def year_xform(al):\n",
    "    if al > 2009: return '2010'\n",
    "    else: return '2000'\n",
    "\n",
    "# Create new column \n",
    "\n",
    "df[\"year2\"] = df['year'].map(year_xform)\n",
    "\n",
    "\n",
    "df['year2'].value_counts()"
   ]
  },
  {
   "cell_type": "code",
   "execution_count": 12,
   "metadata": {},
   "outputs": [],
   "source": [
    "# Now I can remove the year (original) column \n",
    "df= df.drop(['year'], axis = 1)"
   ]
  },
  {
   "cell_type": "markdown",
   "metadata": {},
   "source": [
    "####  3. 2 Create new categorical columns "
   ]
  },
  {
   "cell_type": "code",
   "execution_count": 13,
   "metadata": {},
   "outputs": [
    {
     "data": {
      "text/plain": [
       "array([0.26913152, 0.35160797, 0.3195086 , ..., 0.55484036, 0.24540367,\n",
       "       0.25542912])"
      ]
     },
     "execution_count": 13,
     "metadata": {},
     "output_type": "execute_result"
    }
   ],
   "source": [
    "## Create new column for urban share\n",
    "df['urban_share']=df['urban_population']/df['total_population']\n",
    "df['urban_share'].unique()"
   ]
  },
  {
   "cell_type": "code",
   "execution_count": 14,
   "metadata": {},
   "outputs": [],
   "source": [
    "# Create a New column for rural_share...see if it works like urban_share\n",
    "df['rural_share']=df['rural_population']/df['total_population']"
   ]
  },
  {
   "cell_type": "code",
   "execution_count": 15,
   "metadata": {},
   "outputs": [
    {
     "data": {
      "text/plain": [
       "(1401, 40)"
      ]
     },
     "execution_count": 15,
     "metadata": {},
     "output_type": "execute_result"
    }
   ],
   "source": [
    "# I should have a total of 40 columns\n",
    "df.shape"
   ]
  },
  {
   "cell_type": "markdown",
   "metadata": {},
   "source": [
    "### 4. Save modified dataset"
   ]
  },
  {
   "cell_type": "code",
   "execution_count": 16,
   "metadata": {},
   "outputs": [],
   "source": [
    "#export data set to main directory to be used in a different jupyter notebook\n",
    "df.to_csv(\"dfprepared.csv\", index=False)"
   ]
  }
 ],
 "metadata": {
  "kernelspec": {
   "display_name": "Python 3",
   "language": "python",
   "name": "python3"
  },
  "language_info": {
   "codemirror_mode": {
    "name": "ipython",
    "version": 3
   },
   "file_extension": ".py",
   "mimetype": "text/x-python",
   "name": "python",
   "nbconvert_exporter": "python",
   "pygments_lexer": "ipython3",
   "version": "3.7.2"
  }
 },
 "nbformat": 4,
 "nbformat_minor": 2
}
