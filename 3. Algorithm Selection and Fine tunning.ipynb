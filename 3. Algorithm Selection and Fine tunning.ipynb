{
 "cells": [
  {
   "cell_type": "markdown",
   "metadata": {},
   "source": [
    "### III. Feature Selection, Algorithm Selection & Generalization evidence\n",
    "\n",
    "In this part, we create a model, we try different algorithms and see which one delivers the best results. Then we chose the best algorithm and fine tune it. \n",
    "\n",
    "This notebook presents the following parts:\n",
    "\n",
    "1) Model creation\n",
    "* Split dataset on train and test sets, making sure that countries with duplicates are in either the train or the test set. \n",
    "* After Splitting, I deal with collinearity issues by removing columns.        \n",
    "\n",
    "2) Algorithm testing : \n",
    "* Linear Regression \n",
    "* Boosted decision tree regressor\n",
    "* Random forest regressor\n",
    "* Bayesian linear regressor\n",
    "3) Chosing best algorithm\n",
    "\n",
    "4) Improving the algorithm\n",
    "\n",
    "5) Save model\n",
    "\n",
    "6) Verification that the **model created will generalize well** (visualizations, etc.)"
   ]
  },
  {
   "cell_type": "code",
   "execution_count": 1,
   "metadata": {},
   "outputs": [],
   "source": [
    "# import libraries\n",
    "import pandas as pd\n",
    "from sklearn import preprocessing\n",
    "import sklearn.model_selection as ms\n",
    "from sklearn import linear_model\n",
    "import sklearn.metrics as sklm\n",
    "import numpy as np\n",
    "import numpy.random as nr\n",
    "import matplotlib.pyplot as plt\n",
    "import seaborn as sns\n",
    "import scipy.stats as ss\n",
    "import math\n",
    "from sklearn.model_selection import train_test_split \n",
    "from sklearn.linear_model import LinearRegression\n",
    "from sklearn import metrics\n",
    "\n",
    "from sklearn.model_selection import train_test_split\n",
    "from sklearn.feature_selection import VarianceThreshold\n",
    "from sklearn.ensemble import RandomForestRegressor\n",
    "\n",
    "\n",
    "\n",
    "from sklearn.preprocessing import StandardScaler\n",
    "from sklearn.linear_model import LogisticRegression\n",
    "from sklearn.ensemble import RandomForestClassifier\n",
    "from sklearn.tree import DecisionTreeClassifier\n",
    "from sklearn.feature_selection import SelectFromModel\n",
    "from sklearn.metrics import roc_auc_score\n",
    "from sklearn.preprocessing import StandardScaler\n",
    "%matplotlib inline\n",
    "%matplotlib inline"
   ]
  },
  {
   "cell_type": "code",
   "execution_count": 2,
   "metadata": {},
   "outputs": [
    {
     "data": {
      "text/plain": [
       "(860, 39)"
      ]
     },
     "execution_count": 2,
     "metadata": {},
     "output_type": "execute_result"
    }
   ],
   "source": [
    "#import data set\n",
    "df=pd.read_csv('dfprepared2.csv')\n",
    "df.shape"
   ]
  },
  {
   "cell_type": "code",
   "execution_count": 3,
   "metadata": {
    "scrolled": false
   },
   "outputs": [
    {
     "data": {
      "text/html": [
       "<div>\n",
       "<style scoped>\n",
       "    .dataframe tbody tr th:only-of-type {\n",
       "        vertical-align: middle;\n",
       "    }\n",
       "\n",
       "    .dataframe tbody tr th {\n",
       "        vertical-align: top;\n",
       "    }\n",
       "\n",
       "    .dataframe thead th {\n",
       "        text-align: right;\n",
       "    }\n",
       "</style>\n",
       "<table border=\"1\" class=\"dataframe\">\n",
       "  <thead>\n",
       "    <tr style=\"text-align: right;\">\n",
       "      <th></th>\n",
       "      <th>access_to_electricity</th>\n",
       "      <th>access_to_improved_sanitation</th>\n",
       "      <th>access_to_improved_water_sources</th>\n",
       "      <th>agricultural_land_area</th>\n",
       "      <th>anemia_prevalence</th>\n",
       "      <th>avg_supply_of_protein_of_animal_origin</th>\n",
       "      <th>avg_value_of_food_production</th>\n",
       "      <th>caloric_energy_from_cereals_roots_tubers</th>\n",
       "      <th>cereal_import_dependency_ratio</th>\n",
       "      <th>cereal_yield</th>\n",
       "      <th>...</th>\n",
       "      <th>rural_share</th>\n",
       "      <th>total_labor_force</th>\n",
       "      <th>total_land_area</th>\n",
       "      <th>total_population</th>\n",
       "      <th>trade_in_services</th>\n",
       "      <th>unemployment_rate</th>\n",
       "      <th>urban_share</th>\n",
       "      <th>Deacade:_2000</th>\n",
       "      <th>Deacade:_2010</th>\n",
       "      <th>prevalence_of_undernourishment</th>\n",
       "    </tr>\n",
       "  </thead>\n",
       "  <tbody>\n",
       "    <tr>\n",
       "      <th>0</th>\n",
       "      <td>0.131209</td>\n",
       "      <td>0.044677</td>\n",
       "      <td>-0.534437</td>\n",
       "      <td>-0.280310</td>\n",
       "      <td>0.419850</td>\n",
       "      <td>-0.542188</td>\n",
       "      <td>0.402156</td>\n",
       "      <td>1.350589</td>\n",
       "      <td>0.166395</td>\n",
       "      <td>0.504589</td>\n",
       "      <td>...</td>\n",
       "      <td>0.603808</td>\n",
       "      <td>-0.243936</td>\n",
       "      <td>-0.209913</td>\n",
       "      <td>-0.249191</td>\n",
       "      <td>-0.54502</td>\n",
       "      <td>-1.121657</td>\n",
       "      <td>-0.684934</td>\n",
       "      <td>0</td>\n",
       "      <td>1</td>\n",
       "      <td>18.298233</td>\n",
       "    </tr>\n",
       "    <tr>\n",
       "      <th>1</th>\n",
       "      <td>0.557962</td>\n",
       "      <td>0.782137</td>\n",
       "      <td>0.900896</td>\n",
       "      <td>-0.299954</td>\n",
       "      <td>-0.349091</td>\n",
       "      <td>1.366352</td>\n",
       "      <td>-0.576278</td>\n",
       "      <td>-1.062279</td>\n",
       "      <td>0.950054</td>\n",
       "      <td>-0.380889</td>\n",
       "      <td>...</td>\n",
       "      <td>0.826154</td>\n",
       "      <td>-0.297878</td>\n",
       "      <td>-0.292849</td>\n",
       "      <td>-0.290334</td>\n",
       "      <td>2.30482</td>\n",
       "      <td>-1.150862</td>\n",
       "      <td>-0.834617</td>\n",
       "      <td>1</td>\n",
       "      <td>0</td>\n",
       "      <td>39.513397</td>\n",
       "    </tr>\n",
       "  </tbody>\n",
       "</table>\n",
       "<p>2 rows × 39 columns</p>\n",
       "</div>"
      ],
      "text/plain": [
       "   access_to_electricity  access_to_improved_sanitation  \\\n",
       "0               0.131209                       0.044677   \n",
       "1               0.557962                       0.782137   \n",
       "\n",
       "   access_to_improved_water_sources  agricultural_land_area  \\\n",
       "0                         -0.534437               -0.280310   \n",
       "1                          0.900896               -0.299954   \n",
       "\n",
       "   anemia_prevalence  avg_supply_of_protein_of_animal_origin  \\\n",
       "0           0.419850                               -0.542188   \n",
       "1          -0.349091                                1.366352   \n",
       "\n",
       "   avg_value_of_food_production  caloric_energy_from_cereals_roots_tubers  \\\n",
       "0                      0.402156                                  1.350589   \n",
       "1                     -0.576278                                 -1.062279   \n",
       "\n",
       "   cereal_import_dependency_ratio  cereal_yield  ...  rural_share  \\\n",
       "0                        0.166395      0.504589  ...     0.603808   \n",
       "1                        0.950054     -0.380889  ...     0.826154   \n",
       "\n",
       "  total_labor_force  total_land_area  total_population  trade_in_services  \\\n",
       "0         -0.243936        -0.209913         -0.249191           -0.54502   \n",
       "1         -0.297878        -0.292849         -0.290334            2.30482   \n",
       "\n",
       "   unemployment_rate  urban_share  Deacade:_2000  Deacade:_2010  \\\n",
       "0          -1.121657    -0.684934              0              1   \n",
       "1          -1.150862    -0.834617              1              0   \n",
       "\n",
       "   prevalence_of_undernourishment  \n",
       "0                       18.298233  \n",
       "1                       39.513397  \n",
       "\n",
       "[2 rows x 39 columns]"
      ]
     },
     "execution_count": 3,
     "metadata": {},
     "output_type": "execute_result"
    }
   ],
   "source": [
    "df.head(2)"
   ]
  },
  {
   "cell_type": "code",
   "execution_count": 4,
   "metadata": {},
   "outputs": [
    {
     "data": {
      "text/plain": [
       "Index(['access_to_electricity', 'access_to_improved_sanitation',\n",
       "       'access_to_improved_water_sources', 'agricultural_land_area',\n",
       "       'anemia_prevalence', 'avg_supply_of_protein_of_animal_origin',\n",
       "       'avg_value_of_food_production',\n",
       "       'caloric_energy_from_cereals_roots_tubers',\n",
       "       'cereal_import_dependency_ratio', 'cereal_yield', 'co2_emissions',\n",
       "       'country_code', 'fertility_rate',\n",
       "       'food_imports_as_share_of_merch_exports', 'forest_area',\n",
       "       'gross_domestic_product_per_capita_ppp',\n",
       "       'imports_of_goods_and_services', 'life_expectancy',\n",
       "       'military_expenditure_share_gdp', 'net_oda_received_per_capita',\n",
       "       'net_oda_received_percent_gni', 'obesity_prevalence', 'open_defecation',\n",
       "       'per_capita_food_production_variability',\n",
       "       'per_capita_food_supply_variability',\n",
       "       'percentage_of_arable_land_equipped_for_irrigation',\n",
       "       'political_stability', 'population_growth',\n",
       "       'proportion_of_seats_held_by_women_in_gov', 'rural_share',\n",
       "       'total_labor_force', 'total_land_area', 'total_population',\n",
       "       'trade_in_services', 'unemployment_rate', 'urban_share',\n",
       "       'Deacade:_2000', 'Deacade:_2010', 'prevalence_of_undernourishment'],\n",
       "      dtype='object')"
      ]
     },
     "execution_count": 4,
     "metadata": {},
     "output_type": "execute_result"
    }
   ],
   "source": [
    "df.columns"
   ]
  },
  {
   "cell_type": "code",
   "execution_count": 5,
   "metadata": {},
   "outputs": [
    {
     "data": {
      "text/plain": [
       "(860, 39)"
      ]
     },
     "execution_count": 5,
     "metadata": {},
     "output_type": "execute_result"
    }
   ],
   "source": [
    "df.shape"
   ]
  },
  {
   "cell_type": "markdown",
   "metadata": {},
   "source": [
    "### 1. Model Creation\n",
    "\n",
    "Here it is very important to know what I am doing. \n",
    "\n",
    "Given the number of countries are limited 92, and they are not the same in the train as in the test data. \n",
    "\n",
    "When doing the local train/test split, it is imperative that I split the data by country so that all years of data for a country appear either in the train set or the test set, but are not split across both.\n",
    "\n",
    "The country codes in the test set are distinct from those in the train set. In other words, no country that appears in the train set appears in the test set. Thus, country-specific features (i.e. country dummy variables) will not be an option. However, the countries in the test set still share similar patterns as those in the train set and so other feature engineering will work the same as usual.\n",
    "\n",
    "Consequently, I proceed as follows:\n",
    "\n",
    "* Identify unique country codes\n",
    "* Split train and test data:\n",
    "        - Train data will have some country codes\n",
    "        - Test data will have the other country codes\n",
    "        - Drop the country_code column from both train and test data"
   ]
  },
  {
   "cell_type": "code",
   "execution_count": 6,
   "metadata": {
    "scrolled": false
   },
   "outputs": [
    {
     "data": {
      "text/plain": [
       "array(['9e614ab', '100c476', '4609682', '7e222a7', '583201c', '2ddc563',\n",
       "       'b79b5f9', 'c408d26', 'e256731', 'a0b37e7', 'd090b87', '6966b4a',\n",
       "       'e509cda', '04952a0', '893d538', 'c8e4701', 'f405b98', '10aeba6',\n",
       "       '0b6e276', '2e5e810', 'ba2039a', '6303e84', '71dc81f', 'd680446',\n",
       "       '75c02b8', 'c3782c8', '81e884c', '5f1162c', 'e8739c8', '085807f',\n",
       "       'c3668f5', '9621c07', '0845041', 'ee5721a', '30e2302', '6b615ad',\n",
       "       'e15a18a', '7fb4d17', '0c0177b', '8e8dfae', 'ba8e2c5', '5c83a63',\n",
       "       '611025c', '1881055', 'ea0b937', '889f053', '2f1d47e', '679c02d',\n",
       "       'c9d2604', '22b9653', '42c298b', '6e49e65', 'a7d355b', 'ea3bfc2',\n",
       "       '94e6bd5', '07f8d11', '066b021', '3e049d7', '75e8f46', '99a7c06',\n",
       "       '9e79f12', '12c8f8f', '8fb5447', '2ca26c6', '11c9833', '7328d3f',\n",
       "       '45a15a2', '66b86bf', '0593aa0', '508731a', 'be60011', '5dbddf9',\n",
       "       'efa9150', 'e8bfe1e', '5c2e474', 'b3dfc85'], dtype=object)"
      ]
     },
     "execution_count": 6,
     "metadata": {},
     "output_type": "execute_result"
    }
   ],
   "source": [
    "df.country_code.unique()"
   ]
  },
  {
   "cell_type": "code",
   "execution_count": 7,
   "metadata": {},
   "outputs": [
    {
     "data": {
      "text/plain": [
       "(604, 39)"
      ]
     },
     "execution_count": 7,
     "metadata": {},
     "output_type": "execute_result"
    }
   ],
   "source": [
    "#To select rows whose column value is in an iterable array, which we'll define as array, you can use isin:\n",
    "array = ['889f053', '9e614ab', '100c476', '4609682', 'be2a7f5', '7e222a7',\n",
    "       '066b021', '66b86bf', '583201c', '0ea781c', '2ddc563', 'b79b5f9',\n",
    "       'f787860', '4080343', 'c408d26', 'e256731', '99a7c06', 'a0b37e7',\n",
    "       'd090b87', '6966b4a', '79c89fd', '12c8f8f', '3e049d7', 'e509cda',\n",
    "       'abd1492', '04952a0', '5dbddf9', '893d538', 'd3a0eeb', 'c8e4701',\n",
    "       'f405b98', '5c2e474', '10aeba6', '0b6e276', '2e5e810', '0593aa0',\n",
    "       'ed9ad13', 'ba2039a', '6303e84', '71dc81f', 'd680446', '11c9833',\n",
    "       '75c02b8', 'c3782c8', '81e884c', '5f1162c', 'e8739c8', '085807f',\n",
    "       'ba8e2c5', 'cff4c58', 'c3668f5', 'e8bfe1e', '9621c07', '93d74a6',\n",
    "       '0845041', 'dd64913', '9e79f12', 'ee5721a', '30e2302', '6b615ad',\n",
    "       'e15a18a', '7fb4d17', '0c0177b', '8fb5447', ]\n",
    "train = df.loc[df['country_code'].isin(array)]\n",
    "train.shape"
   ]
  },
  {
   "cell_type": "code",
   "execution_count": 8,
   "metadata": {},
   "outputs": [
    {
     "data": {
      "text/plain": [
       "(256, 39)"
      ]
     },
     "execution_count": 8,
     "metadata": {},
     "output_type": "execute_result"
    }
   ],
   "source": [
    "# for test values, we shall use the sing ~ to select those country codes NOT IN array\n",
    "test = df.loc[~df['country_code'].isin(array)]\n",
    "test.shape"
   ]
  },
  {
   "cell_type": "code",
   "execution_count": 9,
   "metadata": {},
   "outputs": [],
   "source": [
    "#Now I can delete the country_code column from train and test:\n",
    "train= train.drop(['country_code'], axis = 1)\n",
    "test= test.drop(['country_code'], axis = 1)"
   ]
  },
  {
   "cell_type": "code",
   "execution_count": 10,
   "metadata": {},
   "outputs": [],
   "source": [
    "X_train = train.loc[:, train.columns != 'prevalence_of_undernourishment']\n",
    "X_test = test.loc[:, test.columns != 'prevalence_of_undernourishment']\n",
    "y_train = train['prevalence_of_undernourishment']\n",
    "y_test = test['prevalence_of_undernourishment']"
   ]
  },
  {
   "cell_type": "markdown",
   "metadata": {},
   "source": [
    "### 1.1 Feature Selection\n",
    "For this, I shall use basic filter methods and by Random Forest Importance"
   ]
  },
  {
   "cell_type": "code",
   "execution_count": 11,
   "metadata": {},
   "outputs": [
    {
     "name": "stderr",
     "output_type": "stream",
     "text": [
      "/anaconda3/envs/featsel/lib/python3.6/site-packages/pandas/core/frame.py:3940: SettingWithCopyWarning: \n",
      "A value is trying to be set on a copy of a slice from a DataFrame\n",
      "\n",
      "See the caveats in the documentation: http://pandas.pydata.org/pandas-docs/stable/indexing.html#indexing-view-versus-copy\n",
      "  errors=errors)\n"
     ]
    },
    {
     "data": {
      "text/plain": [
       "((604, 37), (256, 37))"
      ]
     },
     "execution_count": 11,
     "metadata": {},
     "output_type": "execute_result"
    }
   ],
   "source": [
    "# Remove Constant Features\n",
    "constant_features = [\n",
    "    feat for feat in X_train.columns if X_train[feat].std() == 0\n",
    "]\n",
    "\n",
    "X_train.drop(labels=constant_features, axis=1, inplace=True)\n",
    "X_test.drop(labels=constant_features, axis=1, inplace=True)\n",
    "\n",
    "X_train.shape, X_test.shape"
   ]
  },
  {
   "cell_type": "markdown",
   "metadata": {},
   "source": [
    "Two features have been removed"
   ]
  },
  {
   "cell_type": "code",
   "execution_count": 12,
   "metadata": {},
   "outputs": [
    {
     "data": {
      "text/plain": [
       "37"
      ]
     },
     "execution_count": 12,
     "metadata": {},
     "output_type": "execute_result"
    }
   ],
   "source": [
    "# remove quasi-constant features\n",
    "sel = VarianceThreshold(\n",
    "    threshold=0.01)  # 0.1 indicates 99% of observations approximately\n",
    "\n",
    "sel.fit(X_train)  # fit finds the features with low variance\n",
    "\n",
    "sum(sel.get_support()) # how many not quasi-constant?"
   ]
  },
  {
   "cell_type": "markdown",
   "metadata": {},
   "source": [
    "None has been removed"
   ]
  },
  {
   "cell_type": "code",
   "execution_count": 13,
   "metadata": {},
   "outputs": [],
   "source": [
    "features_to_keep = X_train.columns[sel.get_support()]"
   ]
  },
  {
   "cell_type": "code",
   "execution_count": 14,
   "metadata": {},
   "outputs": [
    {
     "data": {
      "text/plain": [
       "((604, 37), (256, 37))"
      ]
     },
     "execution_count": 14,
     "metadata": {},
     "output_type": "execute_result"
    }
   ],
   "source": [
    "# we can then remove the features like this\n",
    "X_train = sel.transform(X_train)\n",
    "X_test = sel.transform(X_test)\n",
    "\n",
    "X_train.shape, X_test.shape"
   ]
  },
  {
   "cell_type": "code",
   "execution_count": 15,
   "metadata": {},
   "outputs": [],
   "source": [
    "# sklearn transformations lead to numpy arrays\n",
    "# here I transform the arrays back to dataframes\n",
    "# please be mindful of getting the columns assigned\n",
    "# correctly\n",
    "\n",
    "X_train= pd.DataFrame(X_train)\n",
    "X_train.columns = features_to_keep\n",
    "\n",
    "X_test= pd.DataFrame(X_test)\n",
    "X_test.columns = features_to_keep"
   ]
  },
  {
   "cell_type": "code",
   "execution_count": 16,
   "metadata": {},
   "outputs": [
    {
     "name": "stdout",
     "output_type": "stream",
     "text": [
      "0\n",
      "10\n",
      "20\n",
      "30\n"
     ]
    },
    {
     "data": {
      "text/plain": [
       "0"
      ]
     },
     "execution_count": 16,
     "metadata": {},
     "output_type": "execute_result"
    }
   ],
   "source": [
    "# check for duplicated features in the training set\n",
    "duplicated_feat = []\n",
    "for i in range(0, len(X_train.columns)):\n",
    "    if i % 10 == 0:  # this helps me understand how the loop is going\n",
    "        print(i)\n",
    "\n",
    "    col_1 = X_train.columns[i]\n",
    "\n",
    "    for col_2 in X_train.columns[i + 1:]:\n",
    "        if X_train[col_1].equals(X_train[col_2]):\n",
    "            duplicated_feat.append(col_2)\n",
    "            \n",
    "len(duplicated_feat)"
   ]
  },
  {
   "cell_type": "code",
   "execution_count": 17,
   "metadata": {},
   "outputs": [
    {
     "data": {
      "text/plain": [
       "((604, 37), (256, 37))"
      ]
     },
     "execution_count": 17,
     "metadata": {},
     "output_type": "execute_result"
    }
   ],
   "source": [
    "# remove duplicated features\n",
    "X_train.drop(labels=duplicated_feat, axis=1, inplace=True)\n",
    "X_test.drop(labels=duplicated_feat, axis=1, inplace=True)\n",
    "\n",
    "X_train.shape, X_test.shape"
   ]
  },
  {
   "cell_type": "code",
   "execution_count": 18,
   "metadata": {},
   "outputs": [],
   "source": [
    "# I keep a copy of the dataset except constant and duplicated variables\n",
    "# to measure the performance of machine learning models\n",
    "# at the end of the notebook\n",
    "\n",
    "X_train_basic_filter = X_train.copy()\n",
    "X_test_basic_filter = X_test.copy()"
   ]
  },
  {
   "cell_type": "code",
   "execution_count": 19,
   "metadata": {},
   "outputs": [
    {
     "name": "stdout",
     "output_type": "stream",
     "text": [
      "correlated features:  8\n"
     ]
    }
   ],
   "source": [
    "# find and remove correlated features\n",
    "def correlation(dataset, threshold):\n",
    "    col_corr = set()  # Set of all the names of correlated columns\n",
    "    corr_matrix = dataset.corr()\n",
    "    for i in range(len(corr_matrix.columns)):\n",
    "        for j in range(i):\n",
    "            if abs(corr_matrix.iloc[i, j]) > threshold: # we are interested in absolute coeff value\n",
    "                colname = corr_matrix.columns[i]  # getting the name of column\n",
    "                col_corr.add(colname)\n",
    "    return col_corr\n",
    "\n",
    "corr_features = correlation(X_train, 0.8)\n",
    "print('correlated features: ', len(set(corr_features)) )"
   ]
  },
  {
   "cell_type": "code",
   "execution_count": 20,
   "metadata": {},
   "outputs": [
    {
     "data": {
      "text/plain": [
       "((604, 29), (256, 29))"
      ]
     },
     "execution_count": 20,
     "metadata": {},
     "output_type": "execute_result"
    }
   ],
   "source": [
    "# removed correlated  features\n",
    "X_train.drop(labels=corr_features, axis=1, inplace=True)\n",
    "X_test.drop(labels=corr_features, axis=1, inplace=True)\n",
    "\n",
    "X_train.shape, X_test.shape"
   ]
  },
  {
   "cell_type": "code",
   "execution_count": 21,
   "metadata": {},
   "outputs": [
    {
     "data": {
      "text/plain": [
       "SelectFromModel(estimator=RandomForestRegressor(bootstrap=True, criterion='mse',\n",
       "                                                max_depth=None,\n",
       "                                                max_features='auto',\n",
       "                                                max_leaf_nodes=None,\n",
       "                                                min_impurity_decrease=0.0,\n",
       "                                                min_impurity_split=None,\n",
       "                                                min_samples_leaf=1,\n",
       "                                                min_samples_split=2,\n",
       "                                                min_weight_fraction_leaf=0.0,\n",
       "                                                n_estimators=100, n_jobs=None,\n",
       "                                                oob_score=False,\n",
       "                                                random_state=None, verbose=0,\n",
       "                                                warm_start=False),\n",
       "                max_features=None, norm_order=1, prefit=False, threshold=None)"
      ]
     },
     "execution_count": 21,
     "metadata": {},
     "output_type": "execute_result"
    }
   ],
   "source": [
    "# here I will do the model fitting and feature selection\n",
    "# altogether in one line of code\n",
    "\n",
    "# first I specify the Random Forest instance, indicating\n",
    "# the number of trees (the default value in sklearn is 10\n",
    "\n",
    "# Then I use the selectFromModel object from sklearn\n",
    "# to automatically select the features\n",
    "\n",
    "# SelectFrom model will select those features which importance\n",
    "# is greater than the mean importance of all the features\n",
    "# by default, but you can alter this threshold if you want to\n",
    "\n",
    "sel_ = SelectFromModel(RandomForestRegressor(n_estimators=100))\n",
    "sel_.fit(X_train.fillna(0), y_train)"
   ]
  },
  {
   "cell_type": "code",
   "execution_count": 22,
   "metadata": {},
   "outputs": [
    {
     "data": {
      "text/plain": [
       "8"
      ]
     },
     "execution_count": 22,
     "metadata": {},
     "output_type": "execute_result"
    }
   ],
   "source": [
    "# let's make a list and count the selected features\n",
    "selected_feat = X_train.columns[(sel_.get_support())]\n",
    "len(selected_feat)"
   ]
  },
  {
   "cell_type": "code",
   "execution_count": 23,
   "metadata": {},
   "outputs": [
    {
     "name": "stdout",
     "output_type": "stream",
     "text": [
      "total features: 29\n",
      "selected features: 8\n",
      "features with coefficients greater than the mean coefficient: 8\n"
     ]
    }
   ],
   "source": [
    "# and now, let's compare the  amount of selected features\n",
    "# with the amount of features which importance is above the\n",
    "# mean importance, to make sure we understand the output of\n",
    "# sklearn\n",
    "\n",
    "print('total features: {}'.format((X_train.shape[1])))\n",
    "print('selected features: {}'.format(len(selected_feat)))\n",
    "print('features with coefficients greater than the mean coefficient: {}'.format(\n",
    "    np.sum(sel_.estimator_.feature_importances_ > sel_.estimator_.feature_importances_.mean())))"
   ]
  },
  {
   "cell_type": "markdown",
   "metadata": {},
   "source": [
    "### 2. Algorithm Testing"
   ]
  },
  {
   "cell_type": "markdown",
   "metadata": {},
   "source": [
    "#### 2.1 Linear Regression "
   ]
  },
  {
   "cell_type": "markdown",
   "metadata": {},
   "source": [
    "##### 2.1.1 Linear Regression simple"
   ]
  },
  {
   "cell_type": "code",
   "execution_count": 24,
   "metadata": {},
   "outputs": [],
   "source": [
    "#Train the Model and predict\n",
    "from sklearn.linear_model import LinearRegression\n",
    "from sklearn.metrics import mean_squared_error\n",
    "lm = LinearRegression()\n",
    "lm.fit(X_train[selected_feat],y_train)\n",
    "lm_predictions = lm.predict(X_test[selected_feat])"
   ]
  },
  {
   "cell_type": "code",
   "execution_count": 25,
   "metadata": {},
   "outputs": [
    {
     "name": "stdout",
     "output_type": "stream",
     "text": [
      "Simple Regression RMSE is 6.624624032953753\n"
     ]
    }
   ],
   "source": [
    "#print RMSLE\n",
    "print ('Simple Regression RMSE is', np.sqrt(mean_squared_error(y_test, lm_predictions)))\n"
   ]
  },
  {
   "cell_type": "markdown",
   "metadata": {},
   "source": [
    "##### 2.1.2 Linear Lasso"
   ]
  },
  {
   "cell_type": "code",
   "execution_count": 26,
   "metadata": {},
   "outputs": [],
   "source": [
    "#Train the Model and predict\n",
    "from sklearn.linear_model import Lasso\n",
    "from sklearn.metrics import mean_squared_log_error\n",
    "Lasso = Lasso()\n",
    "Lasso.fit(X_train[selected_feat],y_train)\n",
    "Lasso_predictions = Lasso.predict(X_test[selected_feat])"
   ]
  },
  {
   "cell_type": "code",
   "execution_count": 27,
   "metadata": {},
   "outputs": [
    {
     "name": "stdout",
     "output_type": "stream",
     "text": [
      "Lasso Regression RMSLE is 6.4499067897095435\n"
     ]
    }
   ],
   "source": [
    "#print RMSLE\n",
    "print ('Lasso Regression RMSLE is', np.sqrt(mean_squared_error(y_test, Lasso_predictions)))"
   ]
  },
  {
   "cell_type": "markdown",
   "metadata": {},
   "source": [
    "##### 2.1.1 Linear Ridge"
   ]
  },
  {
   "cell_type": "code",
   "execution_count": 28,
   "metadata": {},
   "outputs": [],
   "source": [
    "#Train the Model and predict\n",
    "from sklearn.linear_model import Ridge\n",
    "from sklearn.metrics import mean_squared_log_error\n",
    "Ridge = Ridge()\n",
    "Ridge.fit(X_train[selected_feat],y_train)\n",
    "Ridge_predictions = Ridge.predict(X_test[selected_feat])"
   ]
  },
  {
   "cell_type": "code",
   "execution_count": 29,
   "metadata": {},
   "outputs": [
    {
     "name": "stdout",
     "output_type": "stream",
     "text": [
      "Ridge Regression RMSLE is 6.600537218533662\n"
     ]
    }
   ],
   "source": [
    "#print RMSLE\n",
    "print ('Ridge Regression RMSLE is', np.sqrt(mean_squared_error(y_test, Ridge_predictions)))"
   ]
  },
  {
   "cell_type": "markdown",
   "metadata": {},
   "source": [
    "2.2 Algorithm: **Boosted Decision Tree Regressor**"
   ]
  },
  {
   "cell_type": "code",
   "execution_count": 30,
   "metadata": {},
   "outputs": [],
   "source": [
    "#Train the Model and predict\n",
    "from sklearn.tree import DecisionTreeRegressor\n",
    "from sklearn.metrics import mean_squared_error\n",
    "Tree = DecisionTreeRegressor()\n",
    "Tree.fit(X_train[selected_feat],y_train)\n",
    "Tree_predictions = Tree.predict(X_test[selected_feat])"
   ]
  },
  {
   "cell_type": "code",
   "execution_count": 31,
   "metadata": {},
   "outputs": [
    {
     "name": "stdout",
     "output_type": "stream",
     "text": [
      "Boosted Decision Tree Regression RMSE is 9.454909142275802\n"
     ]
    }
   ],
   "source": [
    "#print RMSLE\n",
    "print ('Boosted Decision Tree Regression RMSE is', np.sqrt(mean_squared_error(y_test, Tree_predictions)))"
   ]
  },
  {
   "cell_type": "markdown",
   "metadata": {},
   "source": [
    "2.3 Algorithm: **Random Forest Regressor**"
   ]
  },
  {
   "cell_type": "code",
   "execution_count": 32,
   "metadata": {},
   "outputs": [
    {
     "name": "stderr",
     "output_type": "stream",
     "text": [
      "/anaconda3/envs/featsel/lib/python3.6/site-packages/sklearn/ensemble/forest.py:245: FutureWarning: The default value of n_estimators will change from 10 in version 0.20 to 100 in 0.22.\n",
      "  \"10 in version 0.20 to 100 in 0.22.\", FutureWarning)\n"
     ]
    }
   ],
   "source": [
    "#Train the Model and predict\n",
    "from sklearn.ensemble import RandomForestRegressor\n",
    "from sklearn.metrics import mean_squared_error\n",
    "Forest = RandomForestRegressor()\n",
    "Forest.fit(X_train[selected_feat],y_train)\n",
    "Forest_predictions = Forest.predict(X_test[selected_feat])"
   ]
  },
  {
   "cell_type": "code",
   "execution_count": 33,
   "metadata": {},
   "outputs": [
    {
     "name": "stdout",
     "output_type": "stream",
     "text": [
      "Random Forest Regression RMSE is 6.624200552800544\n"
     ]
    }
   ],
   "source": [
    "#print RMSLE\n",
    "print ('Random Forest Regression RMSE is', np.sqrt(mean_squared_error(y_test, Forest_predictions)))"
   ]
  },
  {
   "cell_type": "markdown",
   "metadata": {},
   "source": [
    "2.4 Algorithm: **Bayesian Linear Regressor**"
   ]
  },
  {
   "cell_type": "code",
   "execution_count": 34,
   "metadata": {},
   "outputs": [],
   "source": [
    "#Train the Model and predict\n",
    "from sklearn.linear_model import BayesianRidge\n",
    "from sklearn.metrics import mean_squared_error\n",
    "Bayesian = BayesianRidge()\n",
    "Bayesian.fit(X_train[selected_feat],y_train)\n",
    "Bayesian_predictions = Bayesian.predict(X_test[selected_feat])"
   ]
  },
  {
   "cell_type": "code",
   "execution_count": 35,
   "metadata": {},
   "outputs": [
    {
     "name": "stdout",
     "output_type": "stream",
     "text": [
      "Bayesian Ridge Regression RMSE is 6.467279187853804\n"
     ]
    }
   ],
   "source": [
    "#print RMSLE\n",
    "print ('Bayesian Ridge Regression RMSE is', np.sqrt(mean_squared_error(y_test, Bayesian_predictions)))"
   ]
  },
  {
   "cell_type": "markdown",
   "metadata": {},
   "source": [
    "2.5 Algorithm **XGBoost Regressor**"
   ]
  },
  {
   "cell_type": "code",
   "execution_count": 36,
   "metadata": {},
   "outputs": [
    {
     "name": "stderr",
     "output_type": "stream",
     "text": [
      "/anaconda3/envs/featsel/lib/python3.6/site-packages/xgboost/core.py:587: FutureWarning: Series.base is deprecated and will be removed in a future version\n",
      "  if getattr(data, 'base', None) is not None and \\\n",
      "/anaconda3/envs/featsel/lib/python3.6/site-packages/xgboost/core.py:588: FutureWarning: Series.base is deprecated and will be removed in a future version\n",
      "  data.base is not None and isinstance(data, np.ndarray) \\\n"
     ]
    }
   ],
   "source": [
    "import xgboost as xgb\n",
    "\n",
    "# set the seed for reproducibility\n",
    "seed_val = 1000000000\n",
    "np.random.seed(seed_val)\n",
    "\n",
    "# build initial model using all the features\n",
    "xgbregressor = xgb.XGBRegressor(\n",
    "    nthread=10, max_depth=4, n_estimators=500, learning_rate=0.05)\n",
    "\n",
    "xgbregressor.fit(X_train[selected_feat], y_train)\n",
    "xgbregressor_predictions=xgbregressor.predict(X_test[selected_feat])"
   ]
  },
  {
   "cell_type": "markdown",
   "metadata": {},
   "source": [
    "### 3. Compare and chose best model"
   ]
  },
  {
   "cell_type": "code",
   "execution_count": 37,
   "metadata": {},
   "outputs": [
    {
     "name": "stdout",
     "output_type": "stream",
     "text": [
      "Simple Regression RMSE is 6.624624032953753\n",
      "Lasso Regression RMSLE is 6.4499067897095435\n",
      "Ridge Regression RMSLE is 6.600537218533662\n",
      "Boosted Decision Tree Regression RMSE is 9.454909142275802\n",
      "Random Forest Regression RMSE is 6.624200552800544\n",
      "Bayesian Ridge Regression RMSE is 6.467279187853804\n",
      "XGB Regressor RMSE is 6.467279187853804\n"
     ]
    }
   ],
   "source": [
    "print ('Simple Regression RMSE is', np.sqrt(mean_squared_error(y_test, lm_predictions)))\n",
    "print ('Lasso Regression RMSLE is', np.sqrt(mean_squared_error(y_test, Lasso_predictions)))\n",
    "print ('Ridge Regression RMSLE is', np.sqrt(mean_squared_error(y_test, Ridge_predictions)))\n",
    "print ('Boosted Decision Tree Regression RMSE is', np.sqrt(mean_squared_error(y_test, Tree_predictions)))\n",
    "print ('Random Forest Regression RMSE is', np.sqrt(mean_squared_error(y_test, Forest_predictions)))\n",
    "print ('Bayesian Ridge Regression RMSE is', np.sqrt(mean_squared_error(y_test, Bayesian_predictions)))\n",
    "print ('XGB Regressor RMSE is', np.sqrt(mean_squared_error(y_test, Bayesian_predictions)))"
   ]
  },
  {
   "cell_type": "markdown",
   "metadata": {},
   "source": [
    "Clearly, **LASSO REGRESSION** is the one producing the best results"
   ]
  },
  {
   "cell_type": "markdown",
   "metadata": {},
   "source": [
    "## 5. Save the model for future predictions"
   ]
  },
  {
   "cell_type": "code",
   "execution_count": 38,
   "metadata": {},
   "outputs": [
    {
     "name": "stderr",
     "output_type": "stream",
     "text": [
      "/anaconda3/envs/featsel/lib/python3.6/site-packages/sklearn/externals/joblib/__init__.py:15: DeprecationWarning: sklearn.externals.joblib is deprecated in 0.21 and will be removed in 0.23. Please import this functionality directly from joblib, which can be installed with: pip install joblib. If this warning is raised when loading pickled models, you may need to re-serialize those models with scikit-learn 0.21+.\n",
      "  warnings.warn(msg, category=DeprecationWarning)\n"
     ]
    }
   ],
   "source": [
    "# Saving LogRec model\n",
    "from sklearn.externals import joblib\n",
    "from joblib import dump, load"
   ]
  },
  {
   "cell_type": "code",
   "execution_count": 39,
   "metadata": {},
   "outputs": [
    {
     "data": {
      "text/plain": [
       "['Lasso.joblib']"
      ]
     },
     "execution_count": 39,
     "metadata": {},
     "output_type": "execute_result"
    }
   ],
   "source": [
    "dump(Lasso,'Lasso.joblib') "
   ]
  },
  {
   "cell_type": "markdown",
   "metadata": {},
   "source": [
    "## 6. Verification that the model created will generalize well"
   ]
  },
  {
   "cell_type": "code",
   "execution_count": 41,
   "metadata": {},
   "outputs": [
    {
     "name": "stdout",
     "output_type": "stream",
     "text": [
      "Mean Square Error      = 41.60129759594127\n",
      "Root Mean Square Error = 6.4499067897095435\n",
      "Mean Absolute Error    = 5.501970946935012\n",
      "Median Absolute Error  = 5.36942108908646\n",
      "R^2                    = 0.45063224852975603\n",
      "Adjusted R^2           = 0.3514408489587397\n"
     ]
    }
   ],
   "source": [
    "def print_metrics(y_train, y_test, n_parameters):\n",
    "    ## First compute R^2 and the adjusted R^2\n",
    "    r2 = sklm.r2_score(y_train, y_test)\n",
    "    r2_adj = r2 - (n_parameters - 1)/(y_train.shape[0] - n_parameters) * (1 - r2)\n",
    "    \n",
    "    ## Print the usual metrics and the R^2 values\n",
    "    print('Mean Square Error      = ' + str(sklm.mean_squared_error(y_train, y_test)))\n",
    "    print('Root Mean Square Error = ' + str(math.sqrt(sklm.mean_squared_error(y_train, y_test))))\n",
    "    print('Mean Absolute Error    = ' + str(sklm.mean_absolute_error(y_train, y_test)))\n",
    "    print('Median Absolute Error  = ' + str(sklm.median_absolute_error(y_train, y_test)))\n",
    "    print('R^2                    = ' + str(r2))\n",
    "    print('Adjusted R^2           = ' + str(r2_adj))\n",
    "   \n",
    "y_score = Lasso.predict(X_test[selected_feat]) \n",
    "print_metrics(y_test, y_score, 40)"
   ]
  },
  {
   "cell_type": "code",
   "execution_count": 42,
   "metadata": {},
   "outputs": [],
   "source": [
    "#Lets look at the residuals plot \n",
    "\n",
    "## Calculate residuals (y-yhat)\n",
    "df['residuals']=y_train - y_test"
   ]
  },
  {
   "cell_type": "code",
   "execution_count": 43,
   "metadata": {},
   "outputs": [
    {
     "data": {
      "image/png": "[encoded data removed]",
      "text/plain": [
       "<Figure size 432x288 with 1 Axes>"
      ]
     },
     "metadata": {
      "needs_background": "light"
     },
     "output_type": "display_data"
    }
   ],
   "source": [
    "def resid_qq(y_train, y_test):\n",
    "    ## first compute vector of residuals. \n",
    "    resids = np.subtract(y_test, y_score)\n",
    "    ## now make the residual plots\n",
    "    ss.probplot(resids, plot = plt)\n",
    "    plt.title('Residuals vs. predicted values')\n",
    "    plt.xlabel('Predicted values')\n",
    "    plt.ylabel('Residual')\n",
    "    \n",
    "resid_qq(y_train, y_test)   "
   ]
  },
  {
   "cell_type": "markdown",
   "metadata": {},
   "source": [
    "As with the histogram, the Q-Q Normal plot indicates the residuals are close to Normally distributed, show some skew (deviation from the straight line). This is particularly for large residuals."
   ]
  },
  {
   "cell_type": "code",
   "execution_count": 44,
   "metadata": {},
   "outputs": [
    {
     "data": {
      "image/png": "[encoded data removed]",
      "text/plain": [
       "<Figure size 432x288 with 1 Axes>"
      ]
     },
     "metadata": {
      "needs_background": "light"
     },
     "output_type": "display_data"
    }
   ],
   "source": [
    "def hist_resids(y_test, y_score):\n",
    "    ## first compute vector of residuals. \n",
    "    resids = np.subtract(y_test, y_score)\n",
    "    ## now make the residual plots\n",
    "    sns.distplot(resids)\n",
    "    plt.title('Histogram of residuals')\n",
    "    plt.xlabel('Residual value')\n",
    "    plt.ylabel('count')\n",
    "    \n",
    "hist_resids(y_test, y_score) "
   ]
  },
  {
   "cell_type": "markdown",
   "metadata": {},
   "source": [
    "This plot looks reasonable. The residual values are distributed near both sides of 0."
   ]
  },
  {
   "cell_type": "code",
   "execution_count": 45,
   "metadata": {},
   "outputs": [
    {
     "data": {
      "image/png": "[encoded data removed]",
      "text/plain": [
       "<Figure size 432x288 with 1 Axes>"
      ]
     },
     "metadata": {
      "needs_background": "light"
     },
     "output_type": "display_data"
    }
   ],
   "source": [
    "def resid_plot(y_test, y_score):\n",
    "    ## first compute vector of residuals. \n",
    "    resids = np.subtract(y_test, y_score)\n",
    "    ## now make the residual plots\n",
    "    sns.regplot(y_score, resids, fit_reg=False)\n",
    "    plt.title('Residuals vs. predicted values')\n",
    "    plt.xlabel('Predicted values')\n",
    "    plt.ylabel('Residual')\n",
    "\n",
    "resid_plot(y_test, y_score)"
   ]
  },
  {
   "cell_type": "markdown",
   "metadata": {},
   "source": [
    "As expected, when plotting residuals we cannot see any clear pattern. Otherwise it would mean there is a hidden pattern we could not identify.\n",
    "\n",
    "We can see, however, some outliers mainly positive."
   ]
  },
  {
   "cell_type": "markdown",
   "metadata": {},
   "source": [
    "### 6. Oportunity for improvement\n",
    "\n",
    "Clearly, an opportunity for improvement would be to deal with outliers. \n",
    "\n",
    "Look at all the country codes one by one, and search for irregularities. \n",
    "\n",
    "This project was part of a competition, in which my result scored 17th best on the competiton. Later, with time, I could work and improve the results, matching the best algorithm results. See [here]( https://datasciencecapstone.org/competitions/9/predicting-chronic-hunger/leaderboard/)"
   ]
  }
 ],
 "metadata": {
  "kernelspec": {
   "display_name": "Python 3",
   "language": "python",
   "name": "python3"
  },
  "language_info": {
   "codemirror_mode": {
    "name": "ipython",
    "version": 3
   },
   "file_extension": ".py",
   "mimetype": "text/x-python",
   "name": "python",
   "nbconvert_exporter": "python",
   "pygments_lexer": "ipython3",
   "version": "3.6.8"
  }
 },
 "nbformat": 4,
 "nbformat_minor": 2
}
